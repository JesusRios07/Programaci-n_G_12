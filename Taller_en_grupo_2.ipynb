{
  "nbformat": 4,
  "nbformat_minor": 0,
  "metadata": {
    "colab": {
      "provenance": [],
      "collapsed_sections": []
    },
    "kernelspec": {
      "name": "python3",
      "display_name": "Python 3"
    },
    "language_info": {
      "name": "python"
    }
  },
  "cells": [
    {
      "cell_type": "code",
      "execution_count": 10,
      "metadata": {
        "colab": {
          "base_uri": "https://localhost:8080/"
        },
        "id": "SRuclZE3kCyK",
        "outputId": "28e436b6-bdfb-4be7-ac14-477a3595a943"
      },
      "outputs": [
        {
          "output_type": "stream",
          "name": "stdout",
          "text": [
            "Dijite el número:4\n",
            "El número 4 es par\n"
          ]
        }
      ],
      "source": [
        "#Taller en grupo\n",
        "#grupo_3\n",
        "#Integrantes: Andres Solano, Mary Ortiz, Jesús Rios y Juan Sebastian Manrique \n",
        "#Ejercicio_1\n",
        "numero=int(input(\"Dijite el número:\"))#variable de ingreso\n",
        "if (numero%2)==0 :#condición para hallar el numero par \n",
        "  print(\"El número\",numero,\"es par\")#Resultado cuando la condición es verdadera \n",
        "else :  #Negación de la condición\n",
        " print(\"El número\",numero,\"es impar\")#Resultado que tiene la negación de la condición"
      ]
    },
    {
      "cell_type": "markdown",
      "source": [
        "1.Escriba un algoritmo que dado un número entero, indique si este valor es par o impar."
      ],
      "metadata": {
        "id": "2nhgO1s4nD4m"
      }
    },
    {
      "cell_type": "code",
      "source": [
        "numero=float(input(\"Ingrese el número: \"))#Número a calcular el porcentaje\n",
        "porcentaje=float(input(\"Ingrese el porcetaje que quiere saber:\"))#Porcentaje que se quiere hallar\n",
        "resultado=(numero*porcentaje)/100#Operación para calcular el porcentaje\n",
        "if (porcentaje>100) :#condición cuando se pasa el limite de 100\n",
        " while porcentaje>100 :\n",
        "  porcentaje=float(input(\"Ingrese el porcetaje nuevamente:\"))#Reingreso de la variable porcentaje después de ser verdadera la condición\n",
        " print(\"El\",porcentaje,\"% de\",numero,\"es: \",resultado,)#Resultado cuando el porcentaje se corrige \n",
        "else :#negación de la condición y calcula el porcentaje en el rango de 0 a 100\n",
        "  print(\"El\",porcentaje,\"% de\",numero,\"es: \",resultado,)#Resultado cuando los datos estan dentro del rango de 0 a 100\n"
      ],
      "metadata": {
        "colab": {
          "base_uri": "https://localhost:8080/"
        },
        "id": "eqnjIQsXk_46",
        "outputId": "cd43b379-27f3-4b44-f53c-ad7a960e2da4"
      },
      "execution_count": 7,
      "outputs": [
        {
          "output_type": "stream",
          "name": "stdout",
          "text": [
            "Ingrese el número: 110\n",
            "Ingrese el porcetaje que quiere saber:10\n",
            "El 10.0 % de 110.0 es:  11.0\n"
          ]
        }
      ]
    },
    {
      "cell_type": "markdown",
      "source": [
        "2.Escriba un algoritmo que pida un número y también un porcentaje entre 0 y 100 que puede ser decimal,  el algoritmo debe entregar el cálculo del porcentaje del primer número, Si el usuario ingresa un dato fuera del rango  (0 a 100), debe mostrar un error y volver a pedir el porcentaje."
      ],
      "metadata": {
        "id": "8dseWodGnIIz"
      }
    },
    {
      "cell_type": "code",
      "source": [
        "n=int(input(\"Dijite el número:\"))#variable de ingreso\n",
        "if (n%2)==0 :#condición para hallar el número par \n",
        "  print(\"El número\",n,\"es par\")#Resultado cuando la condición es verdadera\n",
        "  for a in range(0,n) :#indica el rango de los números menores al número par\n",
        "    if (a%2)==0 :#condición para imprimir los numeros pares menores de n\n",
        "      print(\"Los números pares menores a\",n,\"son:\",a,)#Imprime los números pares menores a n\n",
        "else :  #Negación de la condición\n",
        " print(\"El número\",n,\"es impar\")#Resultado que tiene la negación de la condición"
      ],
      "metadata": {
        "id": "xQOmB0rCqsIA",
        "colab": {
          "base_uri": "https://localhost:8080/"
        },
        "outputId": "d959694b-84e0-4092-b571-a0ecede2142e"
      },
      "execution_count": null,
      "outputs": [
        {
          "output_type": "stream",
          "name": "stdout",
          "text": [
            "Dijite el número:6\n",
            "El número 6 es par\n",
            "Los números pares menores a 6 son: 0\n",
            "Los números pares menores a 6 son: 2\n",
            "Los números pares menores a 6 son: 4\n"
          ]
        }
      ]
    },
    {
      "cell_type": "markdown",
      "source": [
        "3.Con base en el primer Ejercicio, si el número indicado es par, entregar todos los números pares entre el 0 y el número."
      ],
      "metadata": {
        "id": "DG6u4zF67nWH"
      }
    },
    {
      "cell_type": "code",
      "source": [
        "z=int(input(\"Escriba un número entero:\"))#variable de ingreso\n",
        "print(\"El número entero es: \",z,)#Impresión de la variable\n",
        "for a in range(0,z+1) :#indica el rango de los números menores al número par\n",
        "    print(\"Los números entre 0 y\",z,\"son:\",a,)#Números del rango\n",
        "print(\"La suma de los números entre 0 y\",z,\"es:\",sum(range(0,z+1)),)#Resultado de la sumatoria de los números de 0 al número escrito"
      ],
      "metadata": {
        "id": "jevFQPRL7ma7",
        "colab": {
          "base_uri": "https://localhost:8080/"
        },
        "outputId": "7c9d9e66-e9e7-4db1-cf14-cb86a112fd48"
      },
      "execution_count": 9,
      "outputs": [
        {
          "output_type": "stream",
          "name": "stdout",
          "text": [
            "Escriba un número entero:8\n",
            "El número entero es:  8\n",
            "Los números entre 0 y 8 son: 0\n",
            "Los números entre 0 y 8 son: 1\n",
            "Los números entre 0 y 8 son: 2\n",
            "Los números entre 0 y 8 son: 3\n",
            "Los números entre 0 y 8 son: 4\n",
            "Los números entre 0 y 8 son: 5\n",
            "Los números entre 0 y 8 son: 6\n",
            "Los números entre 0 y 8 son: 7\n",
            "Los números entre 0 y 8 son: 8\n",
            "La suma de los números entre 0 y 8 es: 36\n"
          ]
        }
      ]
    },
    {
      "cell_type": "markdown",
      "source": [
        "4.Escriba un algoritmo que dado un número entero, entregue la suma de todos los números entre el 0 y el número dado."
      ],
      "metadata": {
        "id": "vnKNela0I-9p"
      }
    }
  ]
}