{
  "nbformat": 4,
  "nbformat_minor": 0,
  "metadata": {
    "colab": {
      "provenance": []
    },
    "kernelspec": {
      "name": "python3",
      "display_name": "Python 3"
    },
    "language_info": {
      "name": "python"
    }
  },
  "cells": [
    {
      "cell_type": "code",
      "source": [
        "import json\n",
        "import requests\n",
        "from pprint import pprint"
      ],
      "metadata": {
        "id": "ZhPbp3WLx-ZQ"
      },
      "execution_count": null,
      "outputs": []
    },
    {
      "cell_type": "code",
      "source": [
        "response=requests.get(\"https://fp.josedomingo.org/lmgs/u05/ej2.json\")\n",
        "pendientes=json.loads(response.text)\n",
        "pprint(pendientes)"
      ],
      "metadata": {
        "colab": {
          "base_uri": "https://localhost:8080/"
        },
        "id": "WzH0QKAFyABH",
        "outputId": "526d4b8d-24be-44e9-8800-f17b7a21b010"
      },
      "execution_count": null,
      "outputs": [
        {
          "output_type": "stream",
          "name": "stdout",
          "text": [
            "[{'$id': '1',\n",
            "  'Categoria': 'Zona Metropolitana',\n",
            "  'ECTS': None,\n",
            "  'FinImparticion': '2015-02-06T00:00:00',\n",
            "  'Horario': None,\n",
            "  'Horas': 2,\n",
            "  'ID': 'A15050163',\n",
            "  'InicioImparticion': '2015-01-09T00:00:00',\n",
            "  'MCER': None,\n",
            "  'Nivel': 'Prueba de nivel - Para cursos segundo cuatrimestre',\n",
            "  'Profesorado': [{'$id': '2', 'NombreCompleto': 'Reinhard Dlugay'}],\n",
            "  'TipoFormacion': 'NoPresencial',\n",
            "  'Titulo': 'Alemán - Prueba de nivel - Para cursos segundo cuatrimestre',\n",
            "  'URL': 'https://sede.fg.ull.es/es/idioma/detalle/A15050163/aleman-prueba-de-nivel-para-cursos-segundo-cuatrimestre'},\n",
            " {'$id': '3',\n",
            "  'Categoria': 'Zona Metropolitana',\n",
            "  'ECTS': None,\n",
            "  'FinImparticion': '2015-02-05T00:00:00',\n",
            "  'Horario': None,\n",
            "  'Horas': 2,\n",
            "  'ID': 'A15050167',\n",
            "  'InicioImparticion': '2015-01-09T00:00:00',\n",
            "  'MCER': None,\n",
            "  'Nivel': 'Prueba de nivel - Para cursos segundo cuatrimestre',\n",
            "  'Profesorado': [{'$id': '4', 'NombreCompleto': 'Beatriz Hernández Bravo'}],\n",
            "  'TipoFormacion': 'No Presencial',\n",
            "  'Titulo': 'Español - Prueba de nivel - Para cursos segundo cuatrimestre',\n",
            "  'URL': 'https://sede.fg.ull.es/es/idioma/detalle/A15050167/espa-ol-prueba-de-nivel-para-cursos-segundo-cuatrimestre'},\n",
            " {'$id': '5',\n",
            "  'Categoria': 'Zona Metropolitana',\n",
            "  'ECTS': None,\n",
            "  'FinImparticion': '2015-02-05T00:00:00',\n",
            "  'Horario': None,\n",
            "  'Horas': 1,\n",
            "  'ID': 'A15050162',\n",
            "  'InicioImparticion': '2015-01-07T00:00:00',\n",
            "  'MCER': None,\n",
            "  'Nivel': 'Prueba de nivel - Para cursos segundo cuatrimestre',\n",
            "  'Profesorado': [{'$id': '6', 'NombreCompleto': 'Marie-Morgane Le Folgoc'}],\n",
            "  'TipoFormacion': 'Presencial',\n",
            "  'Titulo': 'Francés - Prueba de nivel - Para cursos segundo cuatrimestre',\n",
            "  'URL': 'https://sede.fg.ull.es/es/idioma/detalle/A15050162/frances-prueba-de-nivel-para-cursos-segundo-cuatrimestre'},\n",
            " {'$id': '7',\n",
            "  'Categoria': 'Zona Metropolitana',\n",
            "  'ECTS': None,\n",
            "  'FinImparticion': '2015-03-03T00:00:00',\n",
            "  'Horario': None,\n",
            "  'Horas': 4,\n",
            "  'ID': 'A15050182',\n",
            "  'InicioImparticion': '2015-02-10T00:00:00',\n",
            "  'MCER': None,\n",
            "  'Nivel': 'Prueba de nivel - para cursos de Inglés para la Docencia y '\n",
            "           'preparatorio de GESE Trinity',\n",
            "  'Profesorado': [{'$id': '8', 'NombreCompleto': 'María Luisa Capón Mouriz'}],\n",
            "  'TipoFormacion': 'Presencial',\n",
            "  'Titulo': 'Inglés - Prueba de nivel - para cursos de Inglés para la Docencia '\n",
            "            'y preparatorio de GESE Trinity',\n",
            "  'URL': 'https://sede.fg.ull.es/es/idioma/detalle/A15050182/ingles-prueba-de-nivel-para-cursos-de-ingles-para-la-docencia-y-preparatorio-de-gese-trinity'},\n",
            " {'$id': '9',\n",
            "  'Categoria': 'Zona Metropolitana',\n",
            "  'ECTS': None,\n",
            "  'FinImparticion': '2015-02-12T00:00:00',\n",
            "  'Horario': None,\n",
            "  'Horas': 3,\n",
            "  'ID': 'A15050007',\n",
            "  'InicioImparticion': '2015-01-09T00:00:00',\n",
            "  'MCER': None,\n",
            "  'Nivel': 'Prueba de nivel - Para cursos segundo cuatrimestre',\n",
            "  'Profesorado': [{'$id': '10', 'NombreCompleto': 'María Luisa Capón Mouriz'},\n",
            "                  {'$id': '11', 'NombreCompleto': 'Richard James Murison'},\n",
            "                  {'$id': '12',\n",
            "                   'NombreCompleto': 'María Isabel Rodríguez Rodríguez'},\n",
            "                  {'$id': '13', 'NombreCompleto': 'Beatriz Freire Betancor'},\n",
            "                  {'$id': '14',\n",
            "                   'NombreCompleto': 'Peggy Gerd Henriksson Carlsson'},\n",
            "                  {'$id': '15',\n",
            "                   'NombreCompleto': 'Eva Miriam Amaral Ribeiro Sampaio de '\n",
            "                                     'Andrade'},\n",
            "                  {'$id': '16', 'NombreCompleto': 'Marta María González Orta'}],\n",
            "  'TipoFormacion': 'Presencial',\n",
            "  'Titulo': 'Inglés - Prueba de nivel - Para cursos segundo cuatrimestre',\n",
            "  'URL': 'https://sede.fg.ull.es/es/idioma/detalle/A15050007/ingles-prueba-de-nivel-para-cursos-segundo-cuatrimestre'},\n",
            " {'$id': '17',\n",
            "  'Categoria': 'Zona Metropolitana',\n",
            "  'ECTS': None,\n",
            "  'FinImparticion': '2015-02-04T00:00:00',\n",
            "  'Horario': None,\n",
            "  'Horas': 1,\n",
            "  'ID': 'A15050166',\n",
            "  'InicioImparticion': '2015-01-12T00:00:00',\n",
            "  'MCER': None,\n",
            "  'Nivel': 'Prueba de nivel - Para preparatorios del FCE/CAE/CPE/IELTS',\n",
            "  'Profesorado': [{'$id': '18', 'NombreCompleto': 'Clive Tyrell'}],\n",
            "  'TipoFormacion': 'Presencial',\n",
            "  'Titulo': 'Inglés - Prueba de nivel - Para preparatorios del '\n",
            "            'FCE/CAE/CPE/IELTS',\n",
            "  'URL': 'https://sede.fg.ull.es/es/idioma/detalle/A15050166/ingles-prueba-de-nivel-para-preparatorios-del-fce-cae-cpe-ielts'},\n",
            " {'$id': '19',\n",
            "  'Categoria': 'Zona Metropolitana',\n",
            "  'ECTS': None,\n",
            "  'FinImparticion': '2015-02-09T00:00:00',\n",
            "  'Horario': None,\n",
            "  'Horas': 2,\n",
            "  'ID': 'A15050164',\n",
            "  'InicioImparticion': '2015-01-12T00:00:00',\n",
            "  'MCER': None,\n",
            "  'Nivel': 'Prueba de nivel - Para cursos segundo cuatrimestre',\n",
            "  'Profesorado': [{'$id': '20', 'NombreCompleto': 'Nicola Cataldo'}],\n",
            "  'TipoFormacion': 'Presencial',\n",
            "  'Titulo': 'Italiano - Prueba de nivel - Para cursos segundo cuatrimestre',\n",
            "  'URL': 'https://sede.fg.ull.es/es/idioma/detalle/A15050164/italiano-prueba-de-nivel-para-cursos-segundo-cuatrimestre'}]\n"
          ]
        }
      ]
    },
    {
      "cell_type": "code",
      "source": [
        "def Prueba_idioma(doc):\n",
        "    titulos = []\n",
        "    profesores=[]\n",
        "    for prueba in doc:\n",
        "        titulos.append(prueba[\"Titulo\"])\n",
        "        lista_prof = []\n",
        "        for profesor in prueba[\"Profesorado\"]:\n",
        "                lista_prof.append(profesor[\"NombreCompleto\"])\n",
        "        profesores.append(lista_prof)\n",
        "    return (titulos,profesores)\n",
        "\n",
        "      "
      ],
      "metadata": {
        "id": "0gKzowThyBzQ"
      },
      "execution_count": null,
      "outputs": []
    },
    {
      "cell_type": "code",
      "source": [
        "Prueba_idioma(pendientes)"
      ],
      "metadata": {
        "colab": {
          "base_uri": "https://localhost:8080/"
        },
        "id": "SILC9LURyj9S",
        "outputId": "f1a7f2a9-625f-4acf-ace6-e8f84db4f5e3"
      },
      "execution_count": null,
      "outputs": [
        {
          "output_type": "execute_result",
          "data": {
            "text/plain": [
              "(['Alemán - Prueba de nivel - Para cursos segundo cuatrimestre',\n",
              "  'Español - Prueba de nivel - Para cursos segundo cuatrimestre',\n",
              "  'Francés - Prueba de nivel - Para cursos segundo cuatrimestre',\n",
              "  'Inglés - Prueba de nivel - para cursos de Inglés para la Docencia y preparatorio de GESE Trinity',\n",
              "  'Inglés - Prueba de nivel - Para cursos segundo cuatrimestre',\n",
              "  'Inglés - Prueba de nivel - Para preparatorios del FCE/CAE/CPE/IELTS',\n",
              "  'Italiano - Prueba de nivel - Para cursos segundo cuatrimestre'],\n",
              " [['Reinhard Dlugay'],\n",
              "  ['Beatriz Hernández Bravo'],\n",
              "  ['Marie-Morgane Le Folgoc'],\n",
              "  ['María Luisa Capón Mouriz'],\n",
              "  ['María Luisa Capón Mouriz',\n",
              "   'Richard James Murison',\n",
              "   'María Isabel Rodríguez Rodríguez',\n",
              "   'Beatriz Freire Betancor',\n",
              "   'Peggy Gerd Henriksson Carlsson',\n",
              "   'Eva Miriam Amaral Ribeiro Sampaio de Andrade',\n",
              "   'Marta María González Orta'],\n",
              "  ['Clive Tyrell'],\n",
              "  ['Nicola Cataldo']])"
            ]
          },
          "metadata": {},
          "execution_count": 26
        }
      ]
    },
    {
      "cell_type": "code",
      "source": [
        "def Pruebasdoshoras(doc):\n",
        "    titulos = []\n",
        "    for prueba in doc:\n",
        "        if prueba[\"Horas\"]>2:\n",
        "            titulos.append(prueba[\"Titulo\"])\n",
        "    return titulos\n"
      ],
      "metadata": {
        "id": "AEg0VFBe21q3"
      },
      "execution_count": null,
      "outputs": []
    },
    {
      "cell_type": "code",
      "source": [
        "Pruebasdoshoras(pendientes)"
      ],
      "metadata": {
        "colab": {
          "base_uri": "https://localhost:8080/"
        },
        "id": "Xx2Ey6wz26jK",
        "outputId": "ea433fa2-892a-48dc-99d5-fc13492576b1"
      },
      "execution_count": null,
      "outputs": [
        {
          "output_type": "execute_result",
          "data": {
            "text/plain": [
              "['Inglés - Prueba de nivel - para cursos de Inglés para la Docencia y preparatorio de GESE Trinity',\n",
              " 'Inglés - Prueba de nivel - Para cursos segundo cuatrimestre']"
            ]
          },
          "metadata": {},
          "execution_count": 31
        }
      ]
    },
    {
      "cell_type": "code",
      "source": [
        "def PruebasNoPresencial(doc):\n",
        "    urls = []\n",
        "    for prueba in doc:\n",
        "        if prueba[\"TipoFormacion\"]==\"NoPresencial\":\n",
        "            urls.append(prueba[\"URL\"])\n",
        "    return urls"
      ],
      "metadata": {
        "id": "N09sSV8j3Xz6"
      },
      "execution_count": null,
      "outputs": []
    },
    {
      "cell_type": "code",
      "source": [
        "PruebasNoPresencial(pendientes)"
      ],
      "metadata": {
        "colab": {
          "base_uri": "https://localhost:8080/"
        },
        "id": "qe-7N3163fs0",
        "outputId": "48bc26f9-67f4-45e1-d07a-6c1758d2e2ee"
      },
      "execution_count": null,
      "outputs": [
        {
          "output_type": "execute_result",
          "data": {
            "text/plain": [
              "['https://sede.fg.ull.es/es/idioma/detalle/A15050163/aleman-prueba-de-nivel-para-cursos-segundo-cuatrimestre']"
            ]
          },
          "metadata": {},
          "execution_count": 33
        }
      ]
    },
    {
      "cell_type": "code",
      "source": [
        "def PruebaTitulosProfesores(doc,id):\n",
        "    datos = []\n",
        "    for prueba in doc:\n",
        "        if prueba[\"$id\"]==id:\n",
        "            datos.append(prueba[\"Titulo\"])\n",
        "            for profesor in prueba[\"Profesorado\"]:\n",
        "                datos.append(profesor[\"NombreCompleto\"])\n",
        "    return datos\n",
        " "
      ],
      "metadata": {
        "id": "HwIAIgtM3fzY"
      },
      "execution_count": null,
      "outputs": []
    },
    {
      "cell_type": "code",
      "source": [
        "PruebaTitulosProfesores(pendientes,str(input(\"Ingrese el id\")))"
      ],
      "metadata": {
        "colab": {
          "base_uri": "https://localhost:8080/"
        },
        "id": "f9TjCHJU33bt",
        "outputId": "15f80269-2a07-4a7f-f7bd-3e7a7d084d44"
      },
      "execution_count": null,
      "outputs": [
        {
          "name": "stdout",
          "output_type": "stream",
          "text": [
            "Ingrese el id9\n"
          ]
        },
        {
          "output_type": "execute_result",
          "data": {
            "text/plain": [
              "['Inglés - Prueba de nivel - Para cursos segundo cuatrimestre',\n",
              " 'María Luisa Capón Mouriz',\n",
              " 'Richard James Murison',\n",
              " 'María Isabel Rodríguez Rodríguez',\n",
              " 'Beatriz Freire Betancor',\n",
              " 'Peggy Gerd Henriksson Carlsson',\n",
              " 'Eva Miriam Amaral Ribeiro Sampaio de Andrade',\n",
              " 'Marta María González Orta']"
            ]
          },
          "metadata": {},
          "execution_count": 58
        }
      ]
    },
    {
      "cell_type": "markdown",
      "source": [
        "![image.png](data:image/png;base64,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)"
      ],
      "metadata": {
        "id": "RIFo6_Gc9Hv1"
      }
    }
  ]
}