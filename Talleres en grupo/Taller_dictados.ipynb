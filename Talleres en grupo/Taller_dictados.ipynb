{
  "nbformat": 4,
  "nbformat_minor": 0,
  "metadata": {
    "colab": {
      "provenance": []
    },
    "kernelspec": {
      "name": "python3",
      "display_name": "Python 3"
    },
    "language_info": {
      "name": "python"
    }
  },
  "cells": [
    {
      "cell_type": "markdown",
      "source": [
        "#**Taller en grupo Nº4**\n",
        "\n",
        "**Integrantes:**\n",
        "\n",
        "Andres Solano\n",
        "\n",
        "Mary Ortiz\n",
        "\n",
        "Jesús Rios\n",
        "\n",
        "Juan Sebastian Manrique"
      ],
      "metadata": {
        "id": "8iQkvQRr4ly8"
      }
    },
    {
      "cell_type": "markdown",
      "source": [
        "#Ejercicio 1\n",
        "Escribir un programa que pregunte al usuario su nombre, edad, dirección y teléfono, guarde la información en un diccionario.\n",
        " Después debe mostrar por pantalla el mensaje:\n",
        "<nombre> tiene <edad> años, vive en <dirección> y su número de teléfono es <teléfono>.\n",
        "\n"
      ],
      "metadata": {
        "id": "cGtt-5N8wiGZ"
      }
    },
    {
      "cell_type": "code",
      "source": [
        "\n",
        "nombre = input('¿Cómo te llamas? ')\n",
        "edad = input('¿Cuántos años tienes? ')\n",
        "direccion = input('¿Cuál es tu dirección? ')\n",
        "telefono = input('¿Cuál es tu número de teléfono? ')\n",
        "datos = {'nombre': nombre, 'edad': edad, 'direccion': direccion, 'telefono': telefono}\n",
        "print(datos['nombre'], 'tiene', datos['edad'], 'años, vive en', datos['direccion'], 'y su número de teléfono es', datos['telefono'])"
      ],
      "metadata": {
        "colab": {
          "base_uri": "https://localhost:8080/"
        },
        "id": "WSb4_OxxtmbD",
        "outputId": "ee37d250-26dd-4abb-b4a6-77022f4604c0"
      },
      "execution_count": null,
      "outputs": [
        {
          "output_type": "stream",
          "name": "stdout",
          "text": [
            "¿Cómo te llamas? andres\n",
            "¿Cuántos años tienes? 18\n",
            "¿Cuál es tu dirección? 2889789\n",
            "¿Cuál es tu número de teléfono? 68984\n",
            "andres tiene 18 años, vive en 2889789 y su número de teléfono es 68984\n"
          ]
        }
      ]
    },
    {
      "cell_type": "markdown",
      "source": [
        "#Ejercicio 2\n",
        "Escribir un programa que pregunte una fecha actual y fecha de nacimiento ‘dd/mm/aaaa’ y muestre por pantalla la misma fecha en formato “dia/mes/aaaa” y sus días de vida son <####>\n",
        "no tenga en cuenta años bisiestos, \n",
        "\n",
        "https://www.programiz.com/python-programming/time#:~:text=time(),the%20point%20where%20time%20begins).\n",
        "\n",
        "de usar la librería time, el algoritmo ya no requiere solicitar la fecha actual\n"
      ],
      "metadata": {
        "id": "I9TNL28Vsz1Z"
      }
    },
    {
      "cell_type": "code",
      "source": [
        "import time"
      ],
      "metadata": {
        "id": "NVTFVPaGw2lf"
      },
      "execution_count": 3,
      "outputs": []
    },
    {
      "cell_type": "code",
      "source": [
        "#Forma 1\n",
        "dia=int(input(\"Ingrese el dia de su nacimiento: \"))\n",
        "mes=int(input(\"Ingrese el mes de su nacimiento: \"))\n",
        "año=int(input(\"Ingrese el año de su nacimiento: \"))\n",
        "fecha_de_nacimiento= {'dia': dia, 'mes': mes, 'año': año}\n",
        "print(\"Su fecha de nacimiento: \",fecha_de_nacimiento['dia'],\"/\",fecha_de_nacimiento['mes'],\"/\",fecha_de_nacimiento['año'])\n",
        "\n",
        "dia_1=int(input(\"Ingrese el día actual: \"))\n",
        "mes_1=int(input(\"Ingrese el mes actual: \"))\n",
        "año_1=int(input(\"Ingrese el año actual: \"))\n",
        "fecha_actual= {'dia': dia_1, 'mes': mes_1, 'año': año_1}\n",
        "print(\"La fecha actual:\",fecha_actual['dia'],\"/\",fecha_actual['mes'],\"/\",fecha_actual['año'])\n",
        "\n",
        "f_n = (año, mes, dia, 0, 0, 0, 0, 0, 0)\n",
        "\n",
        "date_of_birth= time.mktime(f_n)\n",
        "\n",
        "seconds = time.time()\n",
        "local_time = time.ctime(seconds)\n",
        "dias_con_vida= ((seconds - date_of_birth)/86.400)/1000\n",
        "\n",
        "print(\"Los días con vida son :\",dias_con_vida)"
      ],
      "metadata": {
        "colab": {
          "base_uri": "https://localhost:8080/"
        },
        "id": "Z_P6A3pVylSd",
        "outputId": "852b4d4c-03ff-4f51-e2fc-c9e76baa7608"
      },
      "execution_count": 17,
      "outputs": [
        {
          "output_type": "stream",
          "name": "stdout",
          "text": [
            "Ingrese el dia de su nacimiento: 26\n",
            "Ingrese el mes de su nacimiento: 10\n",
            "Ingrese el año de su nacimiento: 2022\n",
            "Su fecha de nacimiento:  26 / 10 / 2022\n",
            "Ingrese el día actual: 27\n",
            "Ingrese el mes actual: 10\n",
            "Ingrese el año actual: 2022\n",
            "La fecha actual: 27 / 10 / 2022\n",
            "Los días con vida son : 2.19066025454413\n"
          ]
        }
      ]
    },
    {
      "cell_type": "code",
      "source": [
        "#Forma 2\n",
        "from datetime import datetime, date\n",
        "\n",
        "#Obtener fecha actual\n",
        "ahora =datetime.now()\n",
        "\n",
        "while True: \n",
        "  fecha_str = input('Ingrese su fecha  de nacimineto \"aaaa/mm/dd\":') \n",
        "  try: \n",
        "    fecha = datetime.strptime(fecha_str, '%Y/%m/%d')\n",
        "    fecha_str = fecha.strftime('%d-%m-%Y') \n",
        "    print(f'Tu fecha de nacimineto es: {fecha_str}')  \n",
        "  except ValueError: \n",
        "    print(\"No ha ingresado una fecha correcta...\") \n",
        "  else: \n",
        "    break\n",
        "\n",
        "#para obtener la cantidad de dias\n",
        "\n",
        "cantidad_dias = ahora-fecha\n",
        "cantidad_dias = cantidad_dias.days\n",
        "\n",
        "\n",
        "print(f'Tu edad en dias es de: {cantidad_dias}')"
      ],
      "metadata": {
        "colab": {
          "base_uri": "https://localhost:8080/"
        },
        "id": "q27QE1kx3kUM",
        "outputId": "ae56958f-0c28-43af-bded-b2d08885ce1b"
      },
      "execution_count": 18,
      "outputs": [
        {
          "output_type": "stream",
          "name": "stdout",
          "text": [
            "Ingrese su fecha  de nacimineto \"aaaa/mm/dd\":1997/09/07\n",
            "Tu fecha de nacimineto es: 07-09-1997\n",
            "Tu edad en dias es de: 9182\n"
          ]
        }
      ]
    },
    {
      "cell_type": "markdown",
      "source": [
        "#Ejercicio 3\n",
        "Escribir un programa que administre un dictado de dictados, {1:{},2:{},,,,,,,#:{}}.\n",
        "Debe preguntar a cada usuario(cantidad indefinida), tres datos (los que definan), y a partir de estos, crear un dictado por usuario.\n",
        "El dictado de cada usuario, será de esta manera:\n",
        "La clave será un entero respectivo al orden en que el usuario ingresa los datos.\n",
        "El valor será un dictado con los tres datos del usuario elegidos.\n",
        "{‘dato1’:857,‘dato2’:True,‘dato3’:’dffd’}\n",
        "Ejemplo dictado general:\n",
        "{0:{‘dato1’:857,‘dato2’:True,‘dato3’:’dffd’},1:{‘dato1’:857,‘dato2’:True,‘dato3’:’dffd’}}\n",
        "Al final el programa imprimirá el primer(mínimo) usuario y el último(máximo) usuario con sus respectivos datos.\n"
      ],
      "metadata": {
        "id": "iXseau-nsjqr"
      }
    },
    {
      "cell_type": "code",
      "source": [
        "big_dic={}\n",
        "posicion=0\n",
        "x=\"Si\"\n",
        "y=input(\"¿Desea agregar un usuario? \")\n",
        "while y==x:\n",
        "  dict1={}\n",
        "  print(f\"El nombre del usuario agregado es: {posicion}\")\n",
        "  dato1=input(\"Ingrese el dato 1: \")\n",
        "  dato2=input(\"Ingrese el dato 2: \")\n",
        "  dato3=input(\"Ingrese el dato 3: \")\n",
        "  dict1[\"dato1\"]=dato1\n",
        "  dict1[\"dato2\"]=dato2\n",
        "  dict1[\"dato3\"]=dato3\n",
        "  big_dic[posicion]=dict1\n",
        "  posicion+=1\n",
        "  y=input(\"¿Desea agregar un usuario? Si/No \")\n",
        "M=max(big_dic) \n",
        "m=min(big_dic)\n",
        "print(big_dic)\n",
        "print(f\"El primer usuario es: {m}:{big_dic[m]} y el ultimo usuario es: {M}:{big_dic[M]}.\")"
      ],
      "metadata": {
        "id": "nbWZTu2H7Wds",
        "colab": {
          "base_uri": "https://localhost:8080/"
        },
        "outputId": "f5fb6fa0-ec7e-4fdf-d575-26c7bfc23e4b"
      },
      "execution_count": null,
      "outputs": [
        {
          "output_type": "stream",
          "name": "stdout",
          "text": [
            "¿Desea agregar un usuario? Si\n",
            "El nombre del usuario agregado es: 0\n",
            "Ingrese el dato 1: Felipe\n",
            "Ingrese el dato 2: 13\n",
            "Ingrese el dato 3: futbol\n",
            "¿Desea agregar un usuario? Si/NoSi\n",
            "El nombre del usuario agregado es: 1\n",
            "Ingrese el dato 1: David\n",
            "Ingrese el dato 2: 9\n",
            "Ingrese el dato 3: nadar\n",
            "¿Desea agregar un usuario? Si/NoNo\n",
            "{0: {'dato1': 'Felipe', 'dato2': '13', 'dato3': 'futbol'}, 1: {'dato1': 'David', 'dato2': '9', 'dato3': 'nadar'}}\n",
            "El primer usuario es: 0:{'dato1': 'Felipe', 'dato2': '13', 'dato3': 'futbol'} y el ultimo usuario es: 1:{'dato1': 'David', 'dato2': '9', 'dato3': 'nadar'}.\n"
          ]
        }
      ]
    }
  ]
}